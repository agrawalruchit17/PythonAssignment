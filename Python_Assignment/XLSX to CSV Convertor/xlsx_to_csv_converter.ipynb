{
 "cells": [
  {
   "cell_type": "code",
   "execution_count": 1,
   "id": "7327d741-a6c7-4b88-a283-3b81da072dbe",
   "metadata": {},
   "outputs": [],
   "source": [
    "# Importing the libraries\n",
    "\n",
    "import pandas as pd\n",
    "import os\n",
    "import glob"
   ]
  },
  {
   "cell_type": "code",
   "execution_count": 2,
   "id": "aad17667-e9a2-44ac-b878-728fd22d66e6",
   "metadata": {},
   "outputs": [],
   "source": [
    "# Reading the XLSX file\n",
    "\n",
    "filepath = str(\"Sample_Data - Python Assignment.xlsx\")\n",
    "data = pd.read_excel(filepath, sheet_name=None)"
   ]
  },
  {
   "cell_type": "code",
   "execution_count": 3,
   "id": "4694c970-a9b1-4c7f-8842-8a64d6654d24",
   "metadata": {},
   "outputs": [],
   "source": [
    "# Creating seperate CSV files for each excel sheet\n",
    "\n",
    "for sheet_name, df in data.items():\n",
    "    df.to_csv('{}.csv'.format(sheet_name))"
   ]
  },
  {
   "cell_type": "code",
   "execution_count": null,
   "id": "7dcf4ce5-a155-4948-b5da-11b1c5e4ba88",
   "metadata": {},
   "outputs": [],
   "source": []
  }
 ],
 "metadata": {
  "kernelspec": {
   "display_name": "Python 3 (ipykernel)",
   "language": "python",
   "name": "python3"
  },
  "language_info": {
   "codemirror_mode": {
    "name": "ipython",
    "version": 3
   },
   "file_extension": ".py",
   "mimetype": "text/x-python",
   "name": "python",
   "nbconvert_exporter": "python",
   "pygments_lexer": "ipython3",
   "version": "3.9.12"
  }
 },
 "nbformat": 4,
 "nbformat_minor": 5
}
