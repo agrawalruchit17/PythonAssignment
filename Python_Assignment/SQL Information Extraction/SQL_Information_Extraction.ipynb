{
 "cells": [
  {
   "cell_type": "code",
   "execution_count": 1,
   "id": "3a4347b0-93ae-4eba-a1b4-9c32ed87bf4a",
   "metadata": {},
   "outputs": [],
   "source": [
    "# Importing libraries\n",
    "\n",
    "import json\n",
    "import os"
   ]
  },
  {
   "cell_type": "code",
   "execution_count": 2,
   "id": "7a6fbfb4-3a79-41de-aa35-5a0e1f5c90f3",
   "metadata": {},
   "outputs": [],
   "source": [
    "# Importing SQL file\n",
    "\n",
    "filename = os.path.basename(\"sample_stored_procedure.sql\")"
   ]
  },
  {
   "cell_type": "code",
   "execution_count": 3,
   "id": "935bf723-09e1-4410-86ff-395645d32d93",
   "metadata": {},
   "outputs": [],
   "source": [
    "# Read the sql file\n",
    "\n",
    "with open(filename, 'r') as sql_query:\n",
    "    query_string = sql_query.read()"
   ]
  },
  {
   "cell_type": "code",
   "execution_count": 4,
   "id": "ccb59cdc-066b-44d8-bef7-2707742a959c",
   "metadata": {},
   "outputs": [],
   "source": [
    "# Splitting sql queries in sql file\n",
    "\n",
    "codes = query_string.split(\";\")"
   ]
  },
  {
   "cell_type": "code",
   "execution_count": 5,
   "id": "943dd100-53da-49fb-a29d-6ad1e601a56c",
   "metadata": {},
   "outputs": [],
   "source": [
    "# Initilizing an empty list to add in information\n",
    "\n",
    "json_list = []\n",
    "\n",
    "\n",
    "# First code in sql file\n",
    "code_id = 1"
   ]
  },
  {
   "cell_type": "code",
   "execution_count": 6,
   "id": "6e814f80-1e39-45bf-8ce6-1cab817365a5",
   "metadata": {},
   "outputs": [
    {
     "name": "stdout",
     "output_type": "stream",
     "text": [
      "sample_stored_procedure.json\n"
     ]
    }
   ],
   "source": [
    "# Looping of extract information\n",
    "\n",
    "for code in codes:\n",
    "    code_type = code.strip().split(' ')[0]\n",
    "    local_dict = {\n",
    "        \"statement_id\": code_id,\n",
    "        \"statement_type\": code_type,\n",
    "        \"target_table_name\": []\n",
    "    }\n",
    "        \n",
    "        \n",
    "    # Splitting lines  \n",
    "    statements = code.splitlines()\n",
    "    code_id += 1\n",
    "    \n",
    "    for statement in statements:\n",
    "        for type in [\"FROM\",\"JOIN\"]:\n",
    "            if statement.find(type) != -1:\n",
    "                table_name = statement.strip().split(type)[1]\n",
    "                if table_name.find(\" \") != -1:\n",
    "                    table_name\n",
    "                if table_name.find(\".\") != -1:\n",
    "                    table_name = table_name.strip().split(\".\")[0]\n",
    "                    \n",
    "                #adding to the details to dictionary\n",
    "                local_dict[\"target_table_name\"].append({\n",
    "                    \"type\": type,\n",
    "                    \"name\": table_name\n",
    "                })\n",
    "                    \n",
    "                    \n",
    "    # Appending the dictionry to the list  \n",
    "    json_list.append(local_dict)\n",
    "    \n",
    "    \n",
    "# Writing the information to a json file and savinf it    \n",
    "file_json = filename.replace('.sql','.json')\n",
    "with open(file_json,'w') as wf:\n",
    "    json.dump(json_list,wf,indent=4)\n",
    "    print(file_json)"
   ]
  },
  {
   "cell_type": "code",
   "execution_count": null,
   "id": "da482b46-f357-4e39-86d3-170c7b705661",
   "metadata": {},
   "outputs": [],
   "source": []
  }
 ],
 "metadata": {
  "kernelspec": {
   "display_name": "Python 3 (ipykernel)",
   "language": "python",
   "name": "python3"
  },
  "language_info": {
   "codemirror_mode": {
    "name": "ipython",
    "version": 3
   },
   "file_extension": ".py",
   "mimetype": "text/x-python",
   "name": "python",
   "nbconvert_exporter": "python",
   "pygments_lexer": "ipython3",
   "version": "3.9.12"
  }
 },
 "nbformat": 4,
 "nbformat_minor": 5
}
